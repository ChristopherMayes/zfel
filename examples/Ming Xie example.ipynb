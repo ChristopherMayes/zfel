{
 "cells": [
  {
   "cell_type": "markdown",
   "metadata": {},
   "source": [
    "# Ming Xie formula example"
   ]
  },
  {
   "cell_type": "code",
   "execution_count": 1,
   "metadata": {},
   "outputs": [],
   "source": [
    "from zfel import mingxie"
   ]
  },
  {
   "cell_type": "code",
   "execution_count": 2,
   "metadata": {},
   "outputs": [
    {
     "data": {
      "text/plain": [
       "\u001b[0;31mSignature:\u001b[0m\n",
       "\u001b[0mmingxie\u001b[0m\u001b[0;34m(\u001b[0m\u001b[0;34m\u001b[0m\n",
       "\u001b[0;34m\u001b[0m    \u001b[0msigma_x\u001b[0m\u001b[0;34m=\u001b[0m\u001b[0;32mNone\u001b[0m\u001b[0;34m,\u001b[0m\u001b[0;34m\u001b[0m\n",
       "\u001b[0;34m\u001b[0m    \u001b[0mund_lambda\u001b[0m\u001b[0;34m=\u001b[0m\u001b[0;32mNone\u001b[0m\u001b[0;34m,\u001b[0m\u001b[0;34m\u001b[0m\n",
       "\u001b[0;34m\u001b[0m    \u001b[0mund_k\u001b[0m\u001b[0;34m=\u001b[0m\u001b[0;32mNone\u001b[0m\u001b[0;34m,\u001b[0m\u001b[0;34m\u001b[0m\n",
       "\u001b[0;34m\u001b[0m    \u001b[0mcurrent\u001b[0m\u001b[0;34m=\u001b[0m\u001b[0;32mNone\u001b[0m\u001b[0;34m,\u001b[0m\u001b[0;34m\u001b[0m\n",
       "\u001b[0;34m\u001b[0m    \u001b[0mgamma\u001b[0m\u001b[0;34m=\u001b[0m\u001b[0;32mNone\u001b[0m\u001b[0;34m,\u001b[0m\u001b[0;34m\u001b[0m\n",
       "\u001b[0;34m\u001b[0m    \u001b[0mnorm_emit\u001b[0m\u001b[0;34m=\u001b[0m\u001b[0;32mNone\u001b[0m\u001b[0;34m,\u001b[0m\u001b[0;34m\u001b[0m\n",
       "\u001b[0;34m\u001b[0m    \u001b[0msigma_E\u001b[0m\u001b[0;34m=\u001b[0m\u001b[0;32mNone\u001b[0m\u001b[0;34m,\u001b[0m\u001b[0;34m\u001b[0m\n",
       "\u001b[0;34m\u001b[0m\u001b[0;34m)\u001b[0m\u001b[0;34m\u001b[0m\u001b[0;34m\u001b[0m\u001b[0m\n",
       "\u001b[0;31mDocstring:\u001b[0m\n",
       "Calculates gain length using the Ming Xie formula.\n",
       "\n",
       "Design Optimization for an X-ray Free Elecgron Laser Driven by SLAC Linac\n",
       "Ming Xie, Lawrence Berkeley Laboratory, Berkeley, CA 94720, USA\n",
       "http://accelconf.web.cern.ch/AccelConf/p95/ARTICLES/TPG/TPG10.PDF\n",
       "\n",
       "Inputs keyword arguments:\n",
       "    sigma_x      # RMS beam size\n",
       "    und_lambda   # Undulator period (m)\n",
       "    und_k        # Undulator K\n",
       "    current      # Beam current (A)\n",
       "    gamma        # Relativistic gamma \n",
       "    norm_emit    # Normalized emittance (m-rad)\n",
       "    sigma_E      # RMS energy spread (eV)\n",
       "\n",
       "\n",
       "Output as dict:\n",
       "    gain_length        # Gain length (m)\n",
       "    saturation_length  # Saturation length (m)\n",
       "    saturation_power   # Saturation power (W)\n",
       "    fel_wavelength     # FEL wavelength (m)\n",
       "    pierce_parameter   # Pierce parameter (rho) \n",
       "\u001b[0;31mFile:\u001b[0m      ~/Code/GitHub/zfel/zfel/mingxie.py\n",
       "\u001b[0;31mType:\u001b[0m      function\n"
      ]
     },
     "metadata": {},
     "output_type": "display_data"
    }
   ],
   "source": [
    "# Function signature\n",
    "?mingxie"
   ]
  },
  {
   "cell_type": "code",
   "execution_count": 3,
   "metadata": {},
   "outputs": [
    {
     "data": {
      "text/plain": [
       "{'gain_length': 3.3615068621783646,\n",
       " 'saturation_length': 61.57236107233048,\n",
       " 'saturation_power': 27797096498.658634,\n",
       " 'fel_wavelength': 1.3656628299999998e-10,\n",
       " 'pierce_parameter': 0.0007257957842039326}"
      ]
     },
     "execution_count": 3,
     "metadata": {},
     "output_type": "execute_result"
    }
   ],
   "source": [
    "# Some test parameters\n",
    "test_params = {    \n",
    "    'sigma_x':18e-6,\n",
    "    'und_lambda':0.03,\n",
    "    'und_k':3.7,\n",
    "    'current':5000.,\n",
    "    'gamma':15000/0.511,\n",
    "    'norm_emit':1e-6,\n",
    "    'sigma_E':3e6}\n",
    "\n",
    "\n",
    "mingxie(**test_params) "
   ]
  },
  {
   "cell_type": "markdown",
   "metadata": {},
   "source": [
    "# Vectorized version\n",
    "The function will also work with inputs vectorized as numpy arrays. Here is an example scanning sigma_x"
   ]
  },
  {
   "cell_type": "code",
   "execution_count": 4,
   "metadata": {},
   "outputs": [],
   "source": [
    "import numpy as np\n",
    "import matplotlib.pyplot as plt\n",
    "%matplotlib inline"
   ]
  },
  {
   "cell_type": "code",
   "execution_count": 5,
   "metadata": {},
   "outputs": [
    {
     "data": {
      "text/plain": [
       "{'gain_length': array([3.36150686, 3.32585658, 3.30852171, 3.30590641, 3.31526357,\n",
       "        3.33446805, 3.36185717, 3.39611655, 3.43619729, 3.48125509,\n",
       "        3.53060491, 3.58368683, 3.64004011, 3.69928324, 3.76109848,\n",
       "        3.82521978, 3.89142325, 3.95951962, 4.02934818, 4.10077195]),\n",
       " 'saturation_length': array([61.57236107, 61.33146812, 61.36922496, 61.6335245 , 62.08397209,\n",
       "        62.68891616, 63.42331198, 64.26716376, 65.20437429, 66.22188546,\n",
       "        67.30902948, 68.45703405, 69.65864165, 70.90781394, 72.19950047,\n",
       "        73.52945639, 74.8940976 , 76.29038502, 77.71573144, 79.16792625]),\n",
       " 'saturation_power': array([2.77970965e+10, 2.93840283e+10, 3.06744364e+10, 3.16907401e+10,\n",
       "        3.24599221e+10, 3.30105488e+10, 3.33707930e+10, 3.35672244e+10,\n",
       "        3.36241540e+10, 3.35633548e+10, 3.34040247e+10, 3.31628954e+10,\n",
       "        3.28544219e+10, 3.24910082e+10, 3.20832425e+10, 3.16401255e+10,\n",
       "        3.11692818e+10, 3.06771522e+10, 3.01691629e+10, 2.96498750e+10]),\n",
       " 'fel_wavelength': array([1.36566283e-10, 1.36566283e-10, 1.36566283e-10, 1.36566283e-10,\n",
       "        1.36566283e-10, 1.36566283e-10, 1.36566283e-10, 1.36566283e-10,\n",
       "        1.36566283e-10, 1.36566283e-10, 1.36566283e-10, 1.36566283e-10,\n",
       "        1.36566283e-10, 1.36566283e-10, 1.36566283e-10, 1.36566283e-10,\n",
       "        1.36566283e-10, 1.36566283e-10, 1.36566283e-10, 1.36566283e-10]),\n",
       " 'pierce_parameter': array([0.0007258 , 0.0007014 , 0.00067895, 0.00065822, 0.000639  ,\n",
       "        0.00062112, 0.00060445, 0.00058885, 0.00057421, 0.00056046,\n",
       "        0.0005475 , 0.00053527, 0.00052369, 0.00051272, 0.00050231,\n",
       "        0.00049241, 0.00048299, 0.000474  , 0.00046542, 0.00045722])}"
      ]
     },
     "execution_count": 5,
     "metadata": {},
     "output_type": "execute_result"
    }
   ],
   "source": [
    "n = 20\n",
    "test_params2 = {}\n",
    "# Duplicate all values\n",
    "for k,v in test_params.items():\n",
    "    test_params2[k] = np.array(n*[v])\n",
    "\n",
    "# Vary sigma_x \n",
    "sx0 = test_params['sigma_x']\n",
    "sx1 = 2*sx0\n",
    "test_params2['sigma_x'] = np.linspace(sx0, sx1, n)    \n",
    "\n",
    "# Calculate\n",
    "result = mingxie(**test_params2)   \n",
    "result"
   ]
  },
  {
   "cell_type": "code",
   "execution_count": 6,
   "metadata": {},
   "outputs": [
    {
     "data": {
      "text/plain": [
       "[<matplotlib.lines.Line2D at 0x811d13c50>]"
      ]
     },
     "execution_count": 6,
     "metadata": {},
     "output_type": "execute_result"
    },
    {
     "data": {
      "image/png": "[encoded data removed]",
      "text/plain": [
       "<Figure size 432x288 with 1 Axes>"
      ]
     },
     "metadata": {
      "needs_background": "light"
     },
     "output_type": "display_data"
    }
   ],
   "source": [
    "# Plot\n",
    "fig, ax = plt.subplots()\n",
    "ax.set_xlabel('sigma_x (um)')\n",
    "ax.set_ylabel('Gain length (m)')\n",
    "ax.plot(1e6*test_params2['sigma_x'], result['gain_length'])"
   ]
  },
  {
   "cell_type": "code",
   "execution_count": null,
   "metadata": {},
   "outputs": [],
   "source": []
  }
 ],
 "metadata": {
  "kernelspec": {
   "display_name": "Python 3",
   "language": "python",
   "name": "python3"
  },
  "language_info": {
   "codemirror_mode": {
    "name": "ipython",
    "version": 3
   },
   "file_extension": ".py",
   "mimetype": "text/x-python",
   "name": "python",
   "nbconvert_exporter": "python",
   "pygments_lexer": "ipython3",
   "version": "3.7.3"
  }
 },
 "nbformat": 4,
 "nbformat_minor": 2
}
