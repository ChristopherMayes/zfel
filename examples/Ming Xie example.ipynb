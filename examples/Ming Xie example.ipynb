{
 "cells": [
  {
   "cell_type": "markdown",
   "metadata": {},
   "source": [
    "# Ming Xie formula example"
   ]
  },
  {
   "cell_type": "code",
   "execution_count": 3,
   "metadata": {},
   "outputs": [],
   "source": [
    "from zfel import mingxie"
   ]
  },
  {
   "cell_type": "code",
   "execution_count": 9,
   "metadata": {},
   "outputs": [
    {
     "data": {
      "text/plain": [
       "\u001b[0;31mSignature:\u001b[0m\n",
       "\u001b[0mmingxie\u001b[0m\u001b[0;34m(\u001b[0m\u001b[0;34m\u001b[0m\n",
       "\u001b[0;34m\u001b[0m    \u001b[0msigma_x\u001b[0m\u001b[0;34m=\u001b[0m\u001b[0;32mNone\u001b[0m\u001b[0;34m,\u001b[0m\u001b[0;34m\u001b[0m\n",
       "\u001b[0;34m\u001b[0m    \u001b[0mund_lambda\u001b[0m\u001b[0;34m=\u001b[0m\u001b[0;32mNone\u001b[0m\u001b[0;34m,\u001b[0m\u001b[0;34m\u001b[0m\n",
       "\u001b[0;34m\u001b[0m    \u001b[0mund_k\u001b[0m\u001b[0;34m=\u001b[0m\u001b[0;32mNone\u001b[0m\u001b[0;34m,\u001b[0m\u001b[0;34m\u001b[0m\n",
       "\u001b[0;34m\u001b[0m    \u001b[0mcurrent\u001b[0m\u001b[0;34m=\u001b[0m\u001b[0;32mNone\u001b[0m\u001b[0;34m,\u001b[0m\u001b[0;34m\u001b[0m\n",
       "\u001b[0;34m\u001b[0m    \u001b[0mgamma\u001b[0m\u001b[0;34m=\u001b[0m\u001b[0;32mNone\u001b[0m\u001b[0;34m,\u001b[0m\u001b[0;34m\u001b[0m\n",
       "\u001b[0;34m\u001b[0m    \u001b[0mnorm_emit\u001b[0m\u001b[0;34m=\u001b[0m\u001b[0;32mNone\u001b[0m\u001b[0;34m,\u001b[0m\u001b[0;34m\u001b[0m\n",
       "\u001b[0;34m\u001b[0m    \u001b[0msigma_E\u001b[0m\u001b[0;34m=\u001b[0m\u001b[0;32mNone\u001b[0m\u001b[0;34m,\u001b[0m\u001b[0;34m\u001b[0m\n",
       "\u001b[0;34m\u001b[0m\u001b[0;34m)\u001b[0m\u001b[0;34m\u001b[0m\u001b[0;34m\u001b[0m\u001b[0m\n",
       "\u001b[0;31mDocstring:\u001b[0m\n",
       "Calculates gain length using the Ming Xie formula.\n",
       "\n",
       "DESIGN OPTIMIZATION FOR AN X-RAY FREE ELECTRON LASER DRIVEN BY SLAC LINAC 􏰢\n",
       "Ming Xie, Lawrence Berkeley Laboratory, Berkeley, CA 94720, USA\n",
       "http://accelconf.web.cern.ch/AccelConf/p95/ARTICLES/TPG/TPG10.PDF\n",
       "\n",
       "Inputs keyword arguments:\n",
       "    sigma_x      # RMS beam size\n",
       "    und_lambda   # Undulator period (m)\n",
       "    und_k        # Undulator K\n",
       "    current      # Beam current (A)\n",
       "    gamma        # Relativistic gamma \n",
       "    norm_emit    # Normalized emittance (m-rad)\n",
       "    sigma_E      # RMS energy spread (eV)\n",
       "\n",
       "\n",
       "Output as dict:\n",
       "    gain_length        # Gain length (m)\n",
       "    saturation_length  # Saturation length (m)\n",
       "    saturation_power   # Saturation power (W)\n",
       "    fel_wavelength     # FEL wavelength (m)\n",
       "    pierce_parameter   # Pierce parameter (rho) \n",
       "\u001b[0;31mFile:\u001b[0m      ~/Code/GitHub/zfel/zfel/mingxie.py\n",
       "\u001b[0;31mType:\u001b[0m      function\n"
      ]
     },
     "metadata": {},
     "output_type": "display_data"
    }
   ],
   "source": [
    "# Function signature\n",
    "?mingxie"
   ]
  },
  {
   "cell_type": "code",
   "execution_count": 10,
   "metadata": {},
   "outputs": [
    {
     "data": {
      "text/plain": [
       "{'gain_length': 3.3615068621783646,\n",
       " 'saturation_length': 61.57236107233048,\n",
       " 'saturation_power': 27797096498.658634,\n",
       " 'fel_wavelength': 1.3656628299999998e-10,\n",
       " 'pierce_parameter': 0.0007257957842039326}"
      ]
     },
     "execution_count": 10,
     "metadata": {},
     "output_type": "execute_result"
    }
   ],
   "source": [
    "# Some test parameters\n",
    "test_params = {    \n",
    "    'sigma_x':18e-6,\n",
    "    'und_lambda':0.03,\n",
    "    'und_k':3.7,\n",
    "    'current':5000.,\n",
    "    'gamma':15000/0.511,\n",
    "    'norm_emit':1e-6,\n",
    "    'sigma_E':3e6}\n",
    "\n",
    "\n",
    "mingxie(**test_params) "
   ]
  },
  {
   "cell_type": "code",
   "execution_count": null,
   "metadata": {},
   "outputs": [],
   "source": []
  }
 ],
 "metadata": {
  "kernelspec": {
   "display_name": "Python 3",
   "language": "python",
   "name": "python3"
  },
  "language_info": {
   "codemirror_mode": {
    "name": "ipython",
    "version": 3
   },
   "file_extension": ".py",
   "mimetype": "text/x-python",
   "name": "python",
   "nbconvert_exporter": "python",
   "pygments_lexer": "ipython3",
   "version": "3.7.3"
  }
 },
 "nbformat": 4,
 "nbformat_minor": 2
}
