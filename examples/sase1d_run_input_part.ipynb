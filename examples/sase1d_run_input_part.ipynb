{
 "cells": [
  {
   "cell_type": "markdown",
   "metadata": {},
   "source": [
    "1.Import packages"
   ]
  },
  {
   "cell_type": "code",
   "execution_count": 1,
   "metadata": {},
   "outputs": [],
   "source": [
    "import pandas as pd\n",
    "import numpy as np\n",
    "from numpy import genfromtxt\n",
    "import matplotlib.pyplot as plt\n",
    "%matplotlib inline\n",
    "import scipy.io\n",
    "import random\n",
    "import datetime\n",
    "import time\n",
    "#from zfel import sase1d_input_part\n",
    "from zfel import sase1d_input_part"
   ]
  },
  {
   "cell_type": "markdown",
   "metadata": {},
   "source": [
    "2.Input parameters"
   ]
  },
  {
   "cell_type": "code",
   "execution_count": 2,
   "metadata": {},
   "outputs": [],
   "source": [
    "Nruns=1                             # Number of runs\n",
    "npart   = 512                       # n-macro-particles per bucket \n",
    "s_steps = 200                    # n-sample points along bunch length\n",
    "z_steps = 200                    # n-sample points along undulator\n",
    "energy  = 4313.34*1E6               # electron energy [eV]\n",
    "eSpread = 0#1.0e-4                  # relative rms energy spread [ ]\n",
    "emitN   = 1.2e-6                    # normalized transverse emittance [m-rad]\n",
    "currentMax = 3400                   # peak current [Ampere]\n",
    "beta = 26                           # mean beta [meter]\n",
    "unduPeriod = 0.03                   # undulator period [meter]\n",
    "#unduK = 3.5                        # undulator parameter, K [ ]\n",
    "unduK = np.ones(z_steps)*3.5 #np.arange(3.52,3.48,-0.04/(z_steps-1))#   # tapered undulator parameter, K [ ]\n",
    "\n",
    "if unduK.shape[0]!=z_steps:\n",
    "    print('Wrong! Number of steps should always be the same as z_steps')\n",
    "unduL = 70#30                       # length of undulator [meter]\n",
    "#radWavelength = 1.5e-9              # seed wavelength? [meter], used only in single-freuqency runs\n",
    "\n",
    "mc2 = 0.51099906E6#510.99906E-3      # Electron rest mass in eV\n",
    "\n",
    "gamma0  = energy/mc2                                    # central energy of the beam in unit of mc2\n",
    "    \n",
    "radWavelength=unduPeriod*(1+unduK[0]**2/2.0)\\\n",
    "                    /(2*gamma0**2)                          # resonant wavelength\n",
    "\n",
    "dEdz = 0                            # rate of relative energy gain or taper [keV/m], optimal~130\n",
    "iopt = 'sase'                       # 'sase' or 'seeded'\n",
    "P0 = 10000*0.0                      # small seed input power [W]\n",
    "constseed = 1                       # whether we want to use constant random seed for reproducibility, 1 Yes, 0 No\n",
    "particle_position=None #genfromtxt('./Inputs/particle_position.csv', delimiter=',') # or None  \n",
    "# particle information with positions in meter and eta,\\\n",
    "# if we want to load random particle positions and energy, then set None\n",
    "hist_rule='square-root'             # 'square-root' or 'sturges' or 'rice-rule' or 'self-design', number \\\n",
    "                                    #  of intervals to generate the histogram of eta value in a bucket"
   ]
  },
  {
   "cell_type": "code",
   "execution_count": 3,
   "metadata": {},
   "outputs": [],
   "source": [
    "'''\n",
    "Put input parameters into a inp_struct dict, for 1D FEL run\n",
    "'''\n",
    "inp_struct={'Nruns':Nruns,'npart':npart,'s_steps':s_steps,'z_steps':z_steps,'energy':energy,'eSpread':eSpread,\\\n",
    "            'emitN':emitN,'currentMax':currentMax,'beta':beta,'unduPeriod':unduPeriod,'unduK':unduK,'unduL':\\\n",
    "            unduL,'radWavelength':radWavelength,'dEdz':dEdz,'iopt':iopt,'P0':P0,'constseed':constseed,'particle_position':particle_position,'hist_rule':hist_rule}"
   ]
  },
  {
   "cell_type": "code",
   "execution_count": null,
   "metadata": {},
   "outputs": [],
   "source": []
  },
  {
   "cell_type": "markdown",
   "metadata": {},
   "source": [
    "3.1D FEL run"
   ]
  },
  {
   "cell_type": "code",
   "execution_count": 4,
   "metadata": {},
   "outputs": [],
   "source": [
    "%load_ext autoreload\n",
    "%autoreload\n",
    "'''\n",
    "Use sase function in sase1d.py to run 1D FEL\n",
    "'''\n",
    "#z,power_z,s,power_s,rho,detune,field,\\\n",
    "#field_s,gainLength,resWavelength,\\\n",
    "#thet_out,eta_out,bunching,spectrum,freq,Ns,history=sase1d_input_part.sase(inp_struct)\n",
    "output = sase1d_input_part.sase(inp_struct)"
   ]
  },
  {
   "cell_type": "markdown",
   "metadata": {},
   "source": [
    "4.Print or plot the output"
   ]
  },
  {
   "cell_type": "code",
   "execution_count": 6,
   "metadata": {},
   "outputs": [
    {
     "data": {
      "text/plain": [
       "Text(0, 0.5, 'spectrum (W)')"
      ]
     },
     "execution_count": 6,
     "metadata": {},
     "output_type": "execute_result"
    },
    {
     "data": {
      "image/png": "[encoded data removed]",
      "text/plain": [
       "<Figure size 432x288 with 1 Axes>"
      ]
     },
     "metadata": {
      "needs_background": "light"
     },
     "output_type": "display_data"
    }
   ],
   "source": [
    "# plot spectrum\n",
    "\n",
    "history = output['history']\n",
    "\n",
    "freq =history['freq']\n",
    "spectrum = history['spectrum']\n",
    "plt.plot(freq,spectrum[1:,-1])\n",
    "plt.xlabel('energy (eV)')\n",
    "plt.ylabel('spectrum (W)')"
   ]
  },
  {
   "cell_type": "code",
   "execution_count": null,
   "metadata": {},
   "outputs": [],
   "source": [
    "%load_ext autoreload\n",
    "%autoreload\n",
    "if iopt == 5:\n",
    "    sase1d_input_part.plot_log_power_z(history)\n",
    "    sase1d_input_part.plot_power_s(history)\n",
    "    sase1d_input_part.plot_phase_space(history)\n",
    "else:\n",
    "    sase1d_input_part.plot_log_power_z(history)\n",
    "    sase1d_input_part.plot_phase_space(history)"
   ]
  },
  {
   "cell_type": "code",
   "execution_count": null,
   "metadata": {},
   "outputs": [],
   "source": [
    "print(bunching[:,0])\n",
    "print(np.sqrt(np.mean(np.absolute(bunching[:,0])**2)))\n",
    "print(1/np.sqrt(Ns))"
   ]
  },
  {
   "cell_type": "code",
   "execution_count": null,
   "metadata": {},
   "outputs": [],
   "source": [
    "print(rho)\n",
    "print(detune)\n",
    "print(gainLength)\n",
    "print(resWavelength)\n",
    "print(thet_out,eta_out)"
   ]
  },
  {
   "cell_type": "code",
   "execution_count": null,
   "metadata": {},
   "outputs": [],
   "source": [
    "print(z)\n",
    "print(power_z)\n",
    "print(s)\n",
    "print(power_s)\n",
    "print(field)\n",
    "print(field_s)\n",
    "print(bunching)"
   ]
  }
 ],
 "metadata": {
  "kernelspec": {
   "display_name": "Python 3",
   "language": "python",
   "name": "python3"
  },
  "language_info": {
   "codemirror_mode": {
    "name": "ipython",
    "version": 3
   },
   "file_extension": ".py",
   "mimetype": "text/x-python",
   "name": "python",
   "nbconvert_exporter": "python",
   "pygments_lexer": "ipython3",
   "version": "3.9.1"
  }
 },
 "nbformat": 4,
 "nbformat_minor": 4
}
